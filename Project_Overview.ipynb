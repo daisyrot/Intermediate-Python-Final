{
 "cells": [
  {
   "cell_type": "markdown",
   "metadata": {
    "collapsed": false,
    "pycharm": {
     "name": "#%% md\n"
    }
   },
   "source": []
  },
  {
   "cell_type": "markdown",
   "metadata": {
    "collapsed": false,
    "pycharm": {
     "name": "#%% md\n"
    }
   },
   "source": [
    "\n",
    "# League of Legends Statistics\n",
    "\n",
    "# Your information here\n",
    " > Kranti Jafar\n",
    " > Intermediate Python\n",
    "\n",
    "## Project type (Choose one):\n",
    "> Game / Analysis"
   ]
  },
  {
   "cell_type": "markdown",
   "metadata": {
    "collapsed": false,
    "pycharm": {
     "name": "#%% md\n"
    }
   },
   "source": [
    "## Description of Application\n",
    "> The application provides a way for League of Legends players to interface easily with the RIOT-Games API to utilize features and pull information that's usually not available or easily accessable to most players in-game. When ran, it allows for searching usernames or champion names to pull up information about the player or champion. If you search for a summoner, you'd see their level, their ID, and their name. If you search for a champion, you'll be able to see an exerpt of their lore, their title, and name as well as optionally choose to see a list of the champions abilities with descriptions, cooldowns, and ability costs. Optionally, you can also view people's mastery ranks to see what characters they play most often and when they last played them.\n",
    "\n",
    "\n"
   ]
  },
  {
   "cell_type": "markdown",
   "metadata": {},
   "source": []
  },
  {
   "cell_type": "markdown",
   "metadata": {
    "collapsed": false,
    "pycharm": {
     "name": "#%% md\n"
    }
   },
   "source": [
    "## Usage\n",
    "\n",
    "* Installation\n",
    "  - First, python3 needs to be installed from https://www.python.org/downloads/\n",
    "  - Next the requirements for the project need to be installed from the requirements.txt file. This can be done by running the command \"pip install -r requirements.txt\" in the terminal.\n",
    "\n",
    "* Execution\n",
    "  - The application depends on a RIOT api key, specified in the .env file. This must be refresed daily, and can be obtained from https://developer.riotgames.com/.\n",
    "  - To run the application, simply run the command \"python run.py\" in the terminal.\n",
    "\n",
    "### Screen shots/examples\n",
    "![User Lookup](http://naminginprogress.com/s/OXpycW.png)\n",
    "![Champion Abilities](http://naminginprogress.com/s/a2RvNH.png)\n",
    "![Champion Info](http://naminginprogress.com/s/YTBsbW.png)\n",
    "\n",
    "## Design diagrams\n",
    "![Program Flow Diagram](http://pineapples.enrage.me/s/NXphem.png)\n",
    "\n"
   ]
  },
  {
   "cell_type": "markdown",
   "metadata": {
    "collapsed": false,
    "pycharm": {
     "name": "#%% md\n"
    }
   },
   "source": [
    "## Testing\n",
    "> To test the application, simply run it with \"python run.py\". Once that's done, you can simply type '1' to select search, then type 'for keria' to view my league of legends account.\n",
    "> Alternatively, to test masteries you can type '2' to select masteries, then type 'for keria' to view my mastery listings. \n",
    "> To test champions, choose '1', then type the name of a champion. 'ahri', from there you can select 1 or 2 to view the champion's abilities or info respectively.\n"
   ]
  },
  {
   "cell_type": "markdown",
   "metadata": {
    "collapsed": false,
    "pycharm": {
     "name": "#%% md\n"
    }
   },
   "source": [
    "## Contributing Packages\n",
    "> load_dotenv - For saving the API key in a new file.\n",
    "\n",
    "> riotwatcher - For interfacing with the RIOT games API."
   ]
  },
  {
   "cell_type": "markdown",
   "metadata": {
    "collapsed": false,
    "pycharm": {
     "name": "#%% md\n"
    }
   },
   "source": [
    "\n",
    "# Licenses\n",
    "\n"
   ]
  },
  {
   "cell_type": "markdown",
   "metadata": {
    "collapsed": false,
    "pycharm": {
     "name": "#%%\n"
    }
   },
   "source": [
    "> No Licenses."
   ]
  }
 ],
 "metadata": {
  "kernelspec": {
   "display_name": "Python 3.10.5 64-bit",
   "language": "python",
   "name": "python3"
  },
  "language_info": {
   "codemirror_mode": {
    "name": "ipython",
    "version": 2
   },
   "file_extension": ".py",
   "mimetype": "text/x-python",
   "name": "python",
   "nbconvert_exporter": "python",
   "pygments_lexer": "ipython2",
   "version": "3.10.5"
  },
  "vscode": {
   "interpreter": {
    "hash": "369f2c481f4da34e4445cda3fffd2e751bd1c4d706f27375911949ba6bb62e1c"
   }
  }
 },
 "nbformat": 4,
 "nbformat_minor": 0
}
